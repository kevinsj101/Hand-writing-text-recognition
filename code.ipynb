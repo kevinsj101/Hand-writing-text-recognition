{
 "cells": [
  {
   "cell_type": "code",
   "execution_count": 2,
   "id": "d4e571fa",
   "metadata": {},
   "outputs": [],
   "source": [
    "import os,io"
   ]
  },
  {
   "cell_type": "code",
   "execution_count": 3,
   "id": "c8c1c9fc",
   "metadata": {},
   "outputs": [],
   "source": [
    "from google.cloud import vision"
   ]
  },
  {
   "cell_type": "code",
   "execution_count": 5,
   "id": "faa5e521",
   "metadata": {},
   "outputs": [],
   "source": [
    "from google.cloud.vision_v1 import types"
   ]
  },
  {
   "cell_type": "code",
   "execution_count": 7,
   "id": "3bbb0322",
   "metadata": {},
   "outputs": [],
   "source": [
    "os.environ['GOOGLE_APPLICATION_CREDENTIALS'] = r'vision-345317-7e2e3f57074c.json'\n",
    "client = vision.ImageAnnotatorClient()"
   ]
  },
  {
   "cell_type": "code",
   "execution_count": 8,
   "id": "6c6d00c1",
   "metadata": {},
   "outputs": [],
   "source": [
    "path = r'C:\\Users\\Kevin Shibu John'\n",
    "imagepath = 'handwritting.jpeg'\n",
    "filepath = os.path.join(path,imagepath)"
   ]
  },
  {
   "cell_type": "code",
   "execution_count": null,
   "id": "ae3ef569",
   "metadata": {},
   "outputs": [],
   "source": [
    "with io.open(filepath, 'rb') as image:\n",
    "    content=image.read()\n",
    "\n",
    "image = vision.Image(content=content) \n",
    "response = client.document_text_detection (image=image) \n",
    "docText = response.full_text_annotation.text \n",
    "print(docText)"
   ]
  }
 ],
 "metadata": {
  "kernelspec": {
   "display_name": "Python 3 (ipykernel)",
   "language": "python",
   "name": "python3"
  },
  "language_info": {
   "codemirror_mode": {
    "name": "ipython",
    "version": 3
   },
   "file_extension": ".py",
   "mimetype": "text/x-python",
   "name": "python",
   "nbconvert_exporter": "python",
   "pygments_lexer": "ipython3",
   "version": "3.9.7"
  }
 },
 "nbformat": 4,
 "nbformat_minor": 5
}
